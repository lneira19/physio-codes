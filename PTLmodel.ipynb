{
 "cells": [
  {
   "cell_type": "code",
   "execution_count": 4,
   "id": "91db3340-3a84-4379-9a56-c775b0b4c24b",
   "metadata": {},
   "outputs": [],
   "source": [
    "#Librerías\n",
    "import numpy as np\n",
    "import matplotlib.pyplot as plt\n",
    "import random\n",
    "import matplotlib.animation as animation"
   ]
  },
  {
   "cell_type": "code",
   "execution_count": 5,
   "id": "f8e5bce7",
   "metadata": {},
   "outputs": [],
   "source": [
    "def get_coor():\n",
    "    r = random.random()\n",
    "    th = random.uniform(0,2*np.pi)\n",
    "    \n",
    "    x = r*np.cos(th)\n",
    "    y = r*np.sin(th)\n",
    "    \n",
    "    return np.array([x,y])\n",
    "\n",
    "\n",
    "def get_coor_arrays(particles):\n",
    "\n",
    "    coors = np.array([get_coor() for i in range(particles)])\n",
    "    coor_transposed = np.transpose(coors)\n",
    "    x_array = coor_transposed[0]\n",
    "    y_array = coor_transposed[1]\n",
    "    \n",
    "    return x_array, y_array"
   ]
  },
  {
   "cell_type": "code",
   "execution_count": 6,
   "id": "a91d6ae2",
   "metadata": {},
   "outputs": [],
   "source": [
    "# Parámetros a ajustar\n",
    "particles = 1000\n",
    "steps = 1000\n",
    "\n",
    "# Gráfico\n",
    "fig, ax = plt.subplots()\n",
    "\n",
    "ax.set_xlim([-50,50])\n",
    "ax.set_ylim([-50,50])\n",
    "\n",
    "fig.set_figheight(10)\n",
    "fig.set_figwidth(10)\n",
    "\n",
    "ax.set_title(\"Modelo de comportamiento de partículas\")\n",
    "\n",
    "plt.grid(linestyle=\"--\")\n",
    "\n",
    "\n",
    "x0 = np.zeros(particles)\n",
    "y0 = np.zeros(particles)\n",
    "\n",
    "ims = []\n",
    "for i in range(steps):\n",
    "    \n",
    "    if i == 0:\n",
    "        x = x0\n",
    "        y = y0\n",
    "    \n",
    "    x_new, y_new = get_coor_arrays(particles)\n",
    "    \n",
    "    x += x_new\n",
    "    y += y_new\n",
    "    \n",
    "    im = ax.scatter(x, y, animated=True,color=\"green\",alpha=0.2)\n",
    "    \n",
    "    ims.append([im])\n",
    "    \n",
    "ani = animation.ArtistAnimation(fig, ims, interval=30, blit=True,\n",
    "                                repeat_delay=1000)\n",
    "\n",
    "writer = animation.PillowWriter(fps=15, metadata=dict(artist='lneira19'),bitrate=1800)\n",
    "ani.save('video.gif', writer=writer)\n",
    "\n",
    "plt.close()"
   ]
  },
  {
   "cell_type": "markdown",
   "id": "506d7b27",
   "metadata": {},
   "source": [
    "![alt text](video.gif)"
   ]
  }
 ],
 "metadata": {
  "kernelspec": {
   "display_name": "fisiocuanti",
   "language": "python",
   "name": "python3"
  },
  "language_info": {
   "codemirror_mode": {
    "name": "ipython",
    "version": 3
   },
   "file_extension": ".py",
   "mimetype": "text/x-python",
   "name": "python",
   "nbconvert_exporter": "python",
   "pygments_lexer": "ipython3",
   "version": "3.11.9"
  }
 },
 "nbformat": 4,
 "nbformat_minor": 5
}
